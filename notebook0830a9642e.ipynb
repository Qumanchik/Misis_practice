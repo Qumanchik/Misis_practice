{
 "cells": [
  {
   "cell_type": "code",
   "execution_count": 1,
   "metadata": {
    "_cell_guid": "b1076dfc-b9ad-4769-8c92-a6c4dae69d19",
    "_uuid": "8f2839f25d086af736a60e9eeb907d3b93b6e0e5",
    "execution": {
     "iopub.execute_input": "2022-07-19T16:33:46.620721Z",
     "iopub.status.busy": "2022-07-19T16:33:46.620084Z",
     "iopub.status.idle": "2022-07-19T16:33:47.650448Z",
     "shell.execute_reply": "2022-07-19T16:33:47.648680Z",
     "shell.execute_reply.started": "2022-07-19T16:33:46.620603Z"
    }
   },
   "outputs": [],
   "source": [
    "import pandas as pd\n",
    "import os \n",
    "import seaborn as sns\n",
    "import matplotlib.pyplot as plt"
   ]
  },
  {
   "cell_type": "code",
   "execution_count": 2,
   "metadata": {
    "execution": {
     "iopub.execute_input": "2022-07-19T16:33:47.654089Z",
     "iopub.status.busy": "2022-07-19T16:33:47.652634Z",
     "iopub.status.idle": "2022-07-19T16:33:47.697346Z",
     "shell.execute_reply": "2022-07-19T16:33:47.696196Z",
     "shell.execute_reply.started": "2022-07-19T16:33:47.654048Z"
    }
   },
   "outputs": [],
   "source": [
    "train_df = pd.read_csv('train.csv')\n",
    "test_df = pd.read_csv('test.csv')\n",
    "gender_df = pd.read_csv('gender_submission.csv')"
   ]
  },
  {
   "cell_type": "raw",
   "metadata": {
    "execution": {
     "iopub.execute_input": "2022-07-19T13:41:27.153882Z",
     "iopub.status.busy": "2022-07-19T13:41:27.152400Z",
     "iopub.status.idle": "2022-07-19T13:41:27.164821Z",
     "shell.execute_reply": "2022-07-19T13:41:27.162292Z",
     "shell.execute_reply.started": "2022-07-19T13:41:27.153790Z"
    }
   },
   "source": [
    "train_df.query('Survived == 1') \\\n",
    "    .groupby('Sex') \\\n",
    "    .agg{'name' : 'nunique'}"
   ]
  },
  {
   "cell_type": "code",
   "execution_count": 3,
   "metadata": {
    "execution": {
     "iopub.execute_input": "2022-07-19T16:33:49.062030Z",
     "iopub.status.busy": "2022-07-19T16:33:49.061632Z",
     "iopub.status.idle": "2022-07-19T16:33:49.088081Z",
     "shell.execute_reply": "2022-07-19T16:33:49.086844Z",
     "shell.execute_reply.started": "2022-07-19T16:33:49.061998Z"
    }
   },
   "outputs": [],
   "source": [
    "new_df = train_df.query('Survived == 1') \\\n",
    "    .groupby('Sex', as_index = False) \\\n",
    "    .agg({'Name' : 'nunique'})"
   ]
  },
  {
   "cell_type": "code",
   "execution_count": 4,
   "metadata": {
    "execution": {
     "iopub.execute_input": "2022-07-19T16:33:49.325577Z",
     "iopub.status.busy": "2022-07-19T16:33:49.325164Z",
     "iopub.status.idle": "2022-07-19T16:33:49.335205Z",
     "shell.execute_reply": "2022-07-19T16:33:49.334018Z",
     "shell.execute_reply.started": "2022-07-19T16:33:49.325525Z"
    }
   },
   "outputs": [],
   "source": [
    "new_df2 = train_df.groupby('Sex', as_index = False) \\\n",
    "    .agg({'Name' : 'nunique'})"
   ]
  },
  {
   "cell_type": "markdown",
   "metadata": {},
   "source": [
    "Таким образом, выжило (233/314)*100 = 74% женщин, аналогично выжило 19% мужчин"
   ]
  },
  {
   "cell_type": "code",
   "execution_count": 5,
   "metadata": {
    "execution": {
     "iopub.execute_input": "2022-07-19T16:33:51.579705Z",
     "iopub.status.busy": "2022-07-19T16:33:51.579284Z",
     "iopub.status.idle": "2022-07-19T16:33:51.596183Z",
     "shell.execute_reply": "2022-07-19T16:33:51.595089Z",
     "shell.execute_reply.started": "2022-07-19T16:33:51.579674Z"
    }
   },
   "outputs": [],
   "source": [
    "new_df = new_df.merge(new_df2, on='Sex')"
   ]
  },
  {
   "cell_type": "code",
   "execution_count": 6,
   "metadata": {
    "execution": {
     "iopub.execute_input": "2022-07-19T16:33:52.729809Z",
     "iopub.status.busy": "2022-07-19T16:33:52.729316Z",
     "iopub.status.idle": "2022-07-19T16:33:52.737660Z",
     "shell.execute_reply": "2022-07-19T16:33:52.736642Z",
     "shell.execute_reply.started": "2022-07-19T16:33:52.729774Z"
    }
   },
   "outputs": [],
   "source": [
    "new_df = new_df.rename(columns={'Name_x' : 'survived', 'Name_y' : 'total', 'Sex' : 'sex'})"
   ]
  },
  {
   "cell_type": "code",
   "execution_count": 10,
   "metadata": {
    "execution": {
     "iopub.execute_input": "2022-07-19T16:34:25.632336Z",
     "iopub.status.busy": "2022-07-19T16:34:25.631937Z",
     "iopub.status.idle": "2022-07-19T16:34:25.824593Z",
     "shell.execute_reply": "2022-07-19T16:34:25.822656Z",
     "shell.execute_reply.started": "2022-07-19T16:34:25.632303Z"
    }
   },
   "outputs": [],
   "source": [
    "from sklearn.ensemble import RandomForestClassifier\n",
    "\n",
    "y = train_df[\"Survived\"]\n",
    "\n",
    "features = [\"Pclass\", \"Sex\", \"SibSp\", \"Parch\"]\n",
    "X = pd.get_dummies(train_df[features])\n",
    "X_test = pd.get_dummies(test_df[features])\n",
    "\n",
    "model = RandomForestClassifier(n_estimators=100, max_depth=5, random_state=1)\n",
    "model.fit(X, y)\n",
    "predictions = model.predict(X_test)\n",
    "\n",
    "output = pd.DataFrame({'PassengerId': test_df.PassengerId, 'Survived': predictions})"
   ]
  },
  {
   "cell_type": "code",
   "execution_count": 11,
   "metadata": {
    "execution": {
     "iopub.execute_input": "2022-07-19T16:34:30.423732Z",
     "iopub.status.busy": "2022-07-19T16:34:30.423337Z",
     "iopub.status.idle": "2022-07-19T16:34:30.432266Z",
     "shell.execute_reply": "2022-07-19T16:34:30.431295Z",
     "shell.execute_reply.started": "2022-07-19T16:34:30.423700Z"
    }
   },
   "outputs": [],
   "source": [
    "export_csv = output.to_csv(r'domashka5.csv', index=None, header=True)"
   ]
  },
  {
   "cell_type": "code",
   "execution_count": 12,
   "metadata": {
    "execution": {
     "iopub.execute_input": "2022-07-19T16:34:54.796849Z",
     "iopub.status.busy": "2022-07-19T16:34:54.796363Z",
     "iopub.status.idle": "2022-07-19T16:34:54.820758Z",
     "shell.execute_reply": "2022-07-19T16:34:54.818738Z",
     "shell.execute_reply.started": "2022-07-19T16:34:54.796811Z"
    }
   },
   "outputs": [],
   "source": [
    "output"
   ]
  },
  {
   "cell_type": "code",
   "execution_count": null,
   "metadata": {},
   "outputs": [],
   "source": []
  }
 ],
 "metadata": {
  "kernelspec": {
   "display_name": "Python 3",
   "language": "python",
   "name": "python3"
  },
  "language_info": {
   "codemirror_mode": {
    "name": "ipython",
    "version": 3
   },
   "file_extension": ".py",
   "mimetype": "text/x-python",
   "name": "python",
   "nbconvert_exporter": "python",
   "pygments_lexer": "ipython3",
   "version": "3.8.8"
  }
 },
 "nbformat": 4,
 "nbformat_minor": 4
}
