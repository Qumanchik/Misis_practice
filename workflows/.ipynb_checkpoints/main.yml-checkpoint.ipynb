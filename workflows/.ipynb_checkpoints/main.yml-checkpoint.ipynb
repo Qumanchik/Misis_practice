{
 "cells": [
  {
   "cell_type": "code",
   "execution_count": null,
   "id": "5ca7ad04",
   "metadata": {},
   "outputs": [],
   "source": [
    "name: Jupyter\n",
    "on:\n",
    "# Настройка триггеров для автоматического запуска сценария после добавления изменений в проект на GitHub. По умолчанию можно отключить эту возможность - сценарий запускается только в ручном режиме со страницы Actions.\n",
    "# push:\n",
    "# branches: [ \"main\" ]\n",
    "# pull_request:\n",
    "# branches: [ \"main\" ]\n",
    "# Запуск сценария в ручном режиме\n",
    "workflow_dispatch:\n",
    "# Запуск GitHub Actions состоит из одного или нескольких заданий, которые могут выполняться последовательно или параллельно.\n",
    "jobs:\n",
    "# Этот сценарий содержит одно задание с именем \"build\"\n",
    "build:\n",
    "# На каком образе будет запускаться наш сценарий: по умолчанию стоит Ubuntu, оставляем.\n",
    "runs-on: ubuntu-latest\n",
    "# Шаги представляют собой последовательность задач, которые будут выполняться как часть задания\n",
    "steps:\n",
    "- name: Checkout # Извлечение репозитория в $GITHUB_WORKSPACE, чтобы задание могло получить к нему доступ\n",
    "uses: actions/checkout@v3\n",
    "- name: Setup Python # Установка python окружения для выполнения задания\n",
    "uses: actions/setup-python@v4.0.0\n",
    "with:\n",
    "cache: pip\n",
    "python-version: '3.7'\n",
    "- name: Install Dependencies # Установка зависимостей для Jupyter\n",
    "run: pip install -r requirements.txt\n",
    "- name: Exeute Notebook # Выполнение тетрадки Jupyter\n",
    "run: jupyter-nbconvert ex1.ipynb --no-input --to html\n",
    "- name: Upload a Build Artifact # Выгрузка вывода тетрадки (артефакта задания) в html файл\n",
    "uses: actions/upload-artifact@v3.1.0\n",
    "with:\n",
    "name: Artifact\n",
    "path: plot_iris_exercise.html"
   ]
  }
 ],
 "metadata": {
  "kernelspec": {
   "display_name": "Python 3",
   "language": "python",
   "name": "python3"
  },
  "language_info": {
   "codemirror_mode": {
    "name": "ipython",
    "version": 3
   },
   "file_extension": ".py",
   "mimetype": "text/x-python",
   "name": "python",
   "nbconvert_exporter": "python",
   "pygments_lexer": "ipython3",
   "version": "3.8.8"
  }
 },
 "nbformat": 4,
 "nbformat_minor": 5
}
